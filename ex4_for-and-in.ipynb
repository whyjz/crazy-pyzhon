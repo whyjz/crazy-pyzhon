{
 "cells": [
  {
   "cell_type": "code",
   "execution_count": 1,
   "metadata": {
    "collapsed": false
   },
   "outputs": [
    {
     "name": "stdout",
     "output_type": "stream",
     "text": [
      "我抽的不是煙，是寂寞\n",
      "我喝的不是酒，是寂寞\n",
      "我吃的不是麵，是寂寞\n",
      "我打的不是手槍，是寂寞\n",
      "我看的不是電視，是寂寞\n",
      "我寫的不是詩，是寂寞\n"
     ]
    }
   ],
   "source": [
    "# 使用 for...in 迴圈\n",
    "# 使用 Python 的 list (列表) 變數格式\n",
    "# 使用 zip (綁) 函數\n",
    "# 字串的結合\n",
    "\n",
    "from aliases import *\n",
    "文青動詞 = ['抽', '喝', '吃', '打', '看', '寫']\n",
    "文青名詞 = ['煙', '酒', '麵', '手槍', '電視', '詩']\n",
    "for 圈, 叉 in 綁(文青動詞, 文青名詞):\n",
    "    印('我' + 圈 + '的不是' + 叉 + '，是寂寞')"
   ]
  },
  {
   "cell_type": "code",
   "execution_count": 2,
   "metadata": {
    "collapsed": false
   },
   "outputs": [
    {
     "name": "stdout",
     "output_type": "stream",
     "text": [
      "「喝」這個動詞實在太不文青了...\n",
      "必須要換掉才行！\n",
      "我抽的不是煙，是寂寞\n",
      "我啜飲的不是酒，是寂寞\n",
      "我吃的不是麵，是寂寞\n",
      "我打的不是手槍，是寂寞\n",
      "我看的不是電視，是寂寞\n",
      "我寫的不是詩，是寂寞\n"
     ]
    }
   ],
   "source": [
    "# 使用 if...in 的判斷式\n",
    "# 替換字串中的字詞\n",
    "\n",
    "if '喝' in 文青動詞:\n",
    "    印('「喝」這個動詞實在太不文青了...')\n",
    "    印('必須要換掉才行！')\n",
    "    文青動詞 = [替換字(圈, '喝', '啜飲') for 圈 in 文青動詞]\n",
    "else:\n",
    "    印('好文青不喝點東西嗎？')\n",
    "    \n",
    "for 圈, 叉 in 綁(文青動詞, 文青名詞):\n",
    "    印('我' + 圈 + '的不是' + 叉 + '，是寂寞')"
   ]
  }
 ],
 "metadata": {
  "anaconda-cloud": {},
  "kernelspec": {
   "display_name": "Python [anaconda3]",
   "language": "python",
   "name": "Python [anaconda3]"
  },
  "language_info": {
   "codemirror_mode": {
    "name": "ipython",
    "version": 3
   },
   "file_extension": ".py",
   "mimetype": "text/x-python",
   "name": "python",
   "nbconvert_exporter": "python",
   "pygments_lexer": "ipython3",
   "version": "3.5.5"
  }
 },
 "nbformat": 4,
 "nbformat_minor": 0
}
