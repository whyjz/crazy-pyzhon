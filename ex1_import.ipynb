{
 "cells": [
  {
   "cell_type": "code",
   "execution_count": 1,
   "metadata": {
    "collapsed": false
   },
   "outputs": [
    {
     "name": "stdout",
     "output_type": "stream",
     "text": [
      "*--------歡迎來到地獄的大門--------*\n",
      "\n",
      "           天堂有路你不走           \n",
      "\n",
      "           等等就不要後悔！          \n"
     ]
    }
   ],
   "source": [
    "# 基本 Python 語法\n",
    "# 字串與輸出螢幕\n",
    "\n",
    "from aliases import *\n",
    "印('*--------歡迎來到地獄的大門--------*')\n",
    "印()\n",
    "印('           天堂有路你不走           ')\n",
    "印()\n",
    "印('           等等就不要後悔！          ')"
   ]
  },
  {
   "cell_type": "code",
   "execution_count": null,
   "metadata": {
    "collapsed": true
   },
   "outputs": [],
   "source": []
  }
 ],
 "metadata": {
  "anaconda-cloud": {},
  "kernelspec": {
   "display_name": "Python [anaconda3]",
   "language": "python",
   "name": "Python [anaconda3]"
  },
  "language_info": {
   "codemirror_mode": {
    "name": "ipython",
    "version": 3
   },
   "file_extension": ".py",
   "mimetype": "text/x-python",
   "name": "python",
   "nbconvert_exporter": "python",
   "pygments_lexer": "ipython3",
   "version": "3.5.5"
  }
 },
 "nbformat": 4,
 "nbformat_minor": 0
}
