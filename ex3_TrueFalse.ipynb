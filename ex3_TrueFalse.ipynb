{
 "cells": [
  {
   "cell_type": "code",
   "execution_count": 2,
   "metadata": {},
   "outputs": [
    {
     "name": "stdout",
     "output_type": "stream",
     "text": [
      "去小7買衛生紙！\n"
     ]
    }
   ],
   "source": [
    "# True 與 False 的概念與如何使用在 if...else 敘述中\n",
    "\n",
    "from aliases import *\n",
    "全聯衛生紙打折 = False\n",
    "小7衛生紙打折 = True\n",
    "if 全聯衛生紙打折:\n",
    "    印('去全聯買衛生紙！')\n",
    "elif 小7衛生紙打折:\n",
    "    印('去小7買衛生紙！')\n",
    "else:\n",
    "    印('不要買衛生紙了。用手擦屁股')"
   ]
  },
  {
   "cell_type": "code",
   "execution_count": 3,
   "metadata": {},
   "outputs": [
    {
     "name": "stdout",
     "output_type": "stream",
     "text": [
      "不要買衛生紙了。用手擦屁股\n"
     ]
    }
   ],
   "source": [
    "# 隨機產生 True 或 False (使用 random 模組)\n",
    "\n",
    "import random as 隨機\n",
    "全聯衛生紙打折 = 布林(隨機.getrandbits(1))\n",
    "小7衛生紙打折 = 布林(隨機.getrandbits(1))\n",
    "if 全聯衛生紙打折:\n",
    "    印('去全聯買衛生紙！')\n",
    "elif 小7衛生紙打折:\n",
    "    印('去小7買衛生紙！')\n",
    "else:\n",
    "    印('不要買衛生紙了。用手擦屁股')"
   ]
  },
  {
   "cell_type": "code",
   "execution_count": null,
   "metadata": {
    "collapsed": true
   },
   "outputs": [],
   "source": []
  }
 ],
 "metadata": {
  "anaconda-cloud": {},
  "kernelspec": {
   "display_name": "Python 3",
   "language": "python",
   "name": "python3"
  },
  "language_info": {
   "codemirror_mode": {
    "name": "ipython",
    "version": 3
   },
   "file_extension": ".py",
   "mimetype": "text/x-python",
   "name": "python",
   "nbconvert_exporter": "python",
   "pygments_lexer": "ipython3",
   "version": "3.7.4"
  }
 },
 "nbformat": 4,
 "nbformat_minor": 1
}
