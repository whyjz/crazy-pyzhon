{
 "cells": [
  {
   "cell_type": "code",
   "execution_count": 1,
   "metadata": {
    "collapsed": false
   },
   "outputs": [
    {
     "name": "stdout",
     "output_type": "stream",
     "text": [
      "去小7買衛生紙！\n"
     ]
    }
   ],
   "source": [
    "from aliases import *\n",
    "全聯衛生紙打折 = False\n",
    "小7衛生紙打折 = True\n",
    "if 全聯衛生紙打折:\n",
    "    印('去全聯買衛生紙！')\n",
    "elif 小7衛生紙打折:\n",
    "    印('去小7買衛生紙！')\n",
    "else:\n",
    "    印('不要買衛生紙了。用手擦屁股')"
   ]
  },
  {
   "cell_type": "code",
   "execution_count": null,
   "metadata": {
    "collapsed": true
   },
   "outputs": [],
   "source": []
  }
 ],
 "metadata": {
  "anaconda-cloud": {},
  "kernelspec": {
   "display_name": "Python [anaconda3]",
   "language": "python",
   "name": "Python [anaconda3]"
  },
  "language_info": {
   "codemirror_mode": {
    "name": "ipython",
    "version": 3
   },
   "file_extension": ".py",
   "mimetype": "text/x-python",
   "name": "python",
   "nbconvert_exporter": "python",
   "pygments_lexer": "ipython3",
   "version": "3.5.5"
  }
 },
 "nbformat": 4,
 "nbformat_minor": 0
}
