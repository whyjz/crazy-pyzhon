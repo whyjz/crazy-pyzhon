{
 "cells": [
  {
   "cell_type": "code",
   "execution_count": 1,
   "metadata": {},
   "outputs": [
    {
     "name": "stdout",
     "output_type": "stream",
     "text": [
      "壹仟圓\n",
      "壹仟圓\n",
      "壹仟圓\n",
      "壹仟圓\n",
      "壹仟圓\n",
      "壹仟圓\n",
      "壹仟圓\n",
      "壹仟圓\n",
      "壹仟圓\n",
      "壹仟圓\n",
      "壹仟圓\n",
      "壹仟圓\n",
      "壹仟圓\n",
      "壹仟圓\n",
      "壹仟圓\n",
      "壹仟圓\n",
      "壹仟圓\n",
      "壹仟圓\n",
      "壹仟圓\n",
      "壹仟圓\n",
      "對不起，系統維護中...\n",
      "對不起，系統維護中...\n"
     ]
    }
   ],
   "source": [
    "from aliases import *\n",
    "\n",
    "class 提款機:\n",
    "    預備款 = 20000\n",
    "    \n",
    "    def 領錢(自己):\n",
    "        while 自己.預備款 >= 1000:\n",
    "            自己.預備款 -= 1000\n",
    "            yield '壹仟圓'\n",
    "        else:\n",
    "            yield '對不起，系統維護中...'\n",
    "\n",
    "忠孝東路提款機 = 提款機()\n",
    "\n",
    "for 現金 in 忠孝東路提款機.領錢():\n",
    "    印(現金)\n",
    "\n",
    "印(下次(忠孝東路提款機.領錢()))"
   ]
  },
  {
   "cell_type": "code",
   "execution_count": null,
   "metadata": {},
   "outputs": [],
   "source": []
  }
 ],
 "metadata": {
  "kernelspec": {
   "display_name": "Python 3",
   "language": "python",
   "name": "python3"
  },
  "language_info": {
   "codemirror_mode": {
    "name": "ipython",
    "version": 3
   },
   "file_extension": ".py",
   "mimetype": "text/x-python",
   "name": "python",
   "nbconvert_exporter": "python",
   "pygments_lexer": "ipython3",
   "version": "3.7.4"
  }
 },
 "nbformat": 4,
 "nbformat_minor": 2
}
