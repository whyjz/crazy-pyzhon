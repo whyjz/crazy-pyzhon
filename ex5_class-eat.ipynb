{
 "cells": [
  {
   "cell_type": "code",
   "execution_count": 1,
   "metadata": {},
   "outputs": [],
   "source": [
    "from aliases import *\n",
    "\n",
    "class 食物:\n",
    "    def __init__(自己):\n",
    "        自己.剩下量 = 1\n",
    "        \n",
    "    def 剩下多少(自己):\n",
    "        return 自己.剩下量\n",
    "\n",
    "class 人:\n",
    "    def __init__(自己, 嘴巴尺寸='中'):\n",
    "        自己.__嘴巴尺寸 = 嘴巴尺寸\n",
    "        自己.飽足 = 0.5\n",
    "\n",
    "    def 覺得餓(自己):\n",
    "        自己.飽足 = 0\n",
    "    \n",
    "    def 咬一口(自己, 某個食物):\n",
    "        if 自己.__嘴巴尺寸 == '大':\n",
    "            if 某個食物.剩下量 >= 0.3:\n",
    "                某個食物.剩下量 -= 0.3\n",
    "                自己.飽足 += 0.2\n",
    "            else:\n",
    "                印('食物已經所剩無幾了！')\n",
    "        elif 自己.__嘴巴尺寸 == '中':\n",
    "            if 某個食物.剩下量 >= 0.1:\n",
    "                某個食物.剩下量 -= 0.1\n",
    "                自己.飽足 += 0.1\n",
    "            else:\n",
    "                印('食物已經所剩無幾了！')\n",
    "        elif 自己.__嘴巴尺寸 == '小':\n",
    "            if 某個食物.剩下量 >= 0.05:\n",
    "                某個食物.剩下量 -= 0.05\n",
    "                自己.飽足 += 0.08\n",
    "            else:\n",
    "                印('食物已經所剩無幾了！')\n",
    "        return 某個食物\n",
    "                \n",
    "    def 飽足感(自己):\n",
    "        return 自己.飽足"
   ]
  },
  {
   "cell_type": "code",
   "execution_count": 2,
   "metadata": {},
   "outputs": [
    {
     "name": "stdout",
     "output_type": "stream",
     "text": [
      "小明有多飽 -> 20.0%\n",
      "蘋果剩下  -> 70.0%\n"
     ]
    }
   ],
   "source": [
    "蘋果 = 食物()\n",
    "小明 = 人(嘴巴尺寸='大')\n",
    "小明.覺得餓()\n",
    "蘋果 = 小明.咬一口(蘋果)\n",
    "印('小明有多飽 -> {}%'.format(小明.飽足感() * 100))\n",
    "印('蘋果剩下  -> {}%'.format(蘋果.剩下多少() * 100))"
   ]
  },
  {
   "cell_type": "code",
   "execution_count": null,
   "metadata": {},
   "outputs": [],
   "source": []
  }
 ],
 "metadata": {
  "kernelspec": {
   "display_name": "Python 3",
   "language": "python",
   "name": "python3"
  },
  "language_info": {
   "codemirror_mode": {
    "name": "ipython",
    "version": 3
   },
   "file_extension": ".py",
   "mimetype": "text/x-python",
   "name": "python",
   "nbconvert_exporter": "python",
   "pygments_lexer": "ipython3",
   "version": "3.7.4"
  }
 },
 "nbformat": 4,
 "nbformat_minor": 2
}
