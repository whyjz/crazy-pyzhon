{
 "cells": [
  {
   "cell_type": "code",
   "execution_count": 1,
   "metadata": {
    "collapsed": false
   },
   "outputs": [
    {
     "name": "stdout",
     "output_type": "stream",
     "text": [
      "星期三 猴子去爬山\n"
     ]
    }
   ],
   "source": [
    "from aliases import *\n",
    "星期 = '三'\n",
    "if 星期 == '一':\n",
    "    印('星期一 猴子穿新衣')\n",
    "elif 星期 == '二':\n",
    "    印('星期二 猴子肚子餓')\n",
    "elif 星期 == '三':\n",
    "    印('星期三 猴子去爬山')\n",
    "elif 星期 == '四':\n",
    "    印('星期四 猴子看電視')\n",
    "elif 星期 == '五':\n",
    "    印('星期五 猴子去跳舞')\n",
    "else:\n",
    "    印('不好意思哦只到星期五 因爲猴子不想去斗六')"
   ]
  },
  {
   "cell_type": "code",
   "execution_count": null,
   "metadata": {
    "collapsed": true
   },
   "outputs": [],
   "source": []
  }
 ],
 "metadata": {
  "anaconda-cloud": {},
  "kernelspec": {
   "display_name": "Python [anaconda3]",
   "language": "python",
   "name": "Python [anaconda3]"
  },
  "language_info": {
   "codemirror_mode": {
    "name": "ipython",
    "version": 3
   },
   "file_extension": ".py",
   "mimetype": "text/x-python",
   "name": "python",
   "nbconvert_exporter": "python",
   "pygments_lexer": "ipython3",
   "version": "3.5.5"
  }
 },
 "nbformat": 4,
 "nbformat_minor": 0
}
