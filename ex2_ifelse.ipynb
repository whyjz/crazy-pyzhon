{
 "cells": [
  {
   "cell_type": "code",
   "execution_count": 2,
   "metadata": {
    "collapsed": false
   },
   "outputs": [
    {
     "name": "stdout",
     "output_type": "stream",
     "text": [
      "星期二 猴子肚子餓\n"
     ]
    }
   ],
   "source": [
    "# if...elif...else 敘述\n",
    "# 變數比較\n",
    "# 輸入和使用 datetime 模組\n",
    "\n",
    "from aliases import *\n",
    "from datetime import datetime as 日期\n",
    "星期 = 日期.now().weekday() + 1    # 今天是星期幾 (Python 從 0 開始計數，所以星期一會是 0，要加 1 才會是正確的星期數)\n",
    "if 星期 == 1:\n",
    "    印('星期一 猴子穿新衣')\n",
    "elif 星期 == 2:\n",
    "    印('星期二 猴子肚子餓')\n",
    "elif 星期 == 3:\n",
    "    印('星期三 猴子去爬山')\n",
    "elif 星期 == 4:\n",
    "    印('星期四 猴子看電視')\n",
    "elif 星期 == 5:\n",
    "    印('星期五 猴子去跳舞')\n",
    "else:\n",
    "    印('不好意思哦只到星期五 因爲猴子不想去斗六')"
   ]
  },
  {
   "cell_type": "code",
   "execution_count": null,
   "metadata": {
    "collapsed": true
   },
   "outputs": [],
   "source": []
  }
 ],
 "metadata": {
  "anaconda-cloud": {},
  "kernelspec": {
   "display_name": "Python [anaconda3]",
   "language": "python",
   "name": "Python [anaconda3]"
  },
  "language_info": {
   "codemirror_mode": {
    "name": "ipython",
    "version": 3
   },
   "file_extension": ".py",
   "mimetype": "text/x-python",
   "name": "python",
   "nbconvert_exporter": "python",
   "pygments_lexer": "ipython3",
   "version": "3.5.5"
  }
 },
 "nbformat": 4,
 "nbformat_minor": 0
}
